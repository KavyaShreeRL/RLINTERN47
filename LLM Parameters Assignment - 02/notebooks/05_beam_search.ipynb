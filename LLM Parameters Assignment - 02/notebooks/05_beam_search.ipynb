{
 "cells": [
  {
   "cell_type": "code",
   "execution_count": null,
   "id": "04896be2",
   "metadata": {},
   "outputs": [],
   "source": [
    "\n",
    "import subprocess\n",
    "import os\n",
    "\n",
    "print(\"Running local beam search demonstration...\")\n",
    "print(\"=\"*50)\n",
    "\n",
    "try:\n",
    "    \n",
    "    result = subprocess.run(\n",
    "        [\"python\", \"local_beam_search_demo.py\"], \n",
    "        cwd=\"..\",  \n",
    "        capture_output=True, \n",
    "        text=True, \n",
    "        timeout=30\n",
    "    )\n",
    "    \n",
    "    if result.returncode == 0:\n",
    "        print(\"BEAM SEARCH DEMO OUTPUT:\")\n",
    "        print(result.stdout)\n",
    "    else:\n",
    "        print(\"Error running demo:\")\n",
    "        print(result.stderr)\n",
    "        \n",
    "except subprocess.TimeoutExpired:\n",
    "    print(\"Demo timed out - run manually: python local_beam_search_demo.py\")\n",
    "except FileNotFoundError:\n",
    "    print(\"Local demo not found. Run manually from project root:\")\n",
    "    print(\"python local_beam_search_demo.py\")"
   ]
  }
 ],
 "metadata": {
  "language_info": {
   "name": "python"
  }
 },
 "nbformat": 4,
 "nbformat_minor": 5
}
