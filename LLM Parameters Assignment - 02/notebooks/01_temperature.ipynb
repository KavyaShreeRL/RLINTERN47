{
 "cells": [
  {
   "cell_type": "code",
   "execution_count": null,
   "id": "122c0361",
   "metadata": {},
   "outputs": [],
   "source": [
    "from openai import OpenAI\n",
    "import os\n",
    "from dotenv import load_dotenv\n",
    "\n",
    "\n",
    "load_dotenv()\n",
    "client = OpenAI()\n",
    "\n",
    "print(\"Temperature Parameter Explorer Ready!\")"
   ]
  },
  {
   "cell_type": "code",
   "execution_count": null,
   "id": "c413d777",
   "metadata": {},
   "outputs": [],
   "source": [
    "\n",
    "prompt = \"Tell me a fun fact about Paris.\"\n",
    "\n",
    "print(\" Temperature Experiment\")\n",
    "print(f\"Prompt: '{prompt}'\\n\")\n",
    "\n",
    "for temp in [0.0, 0.5, 1.0, 1.5]:\n",
    "    print(f\" Temperature {temp}:\")\n",
    "    \n",
    "    \n",
    "    for i in range(3):\n",
    "        response = client.chat.completions.create(\n",
    "            model=\"gpt-4o-mini\",\n",
    "            messages=[{\"role\": \"user\", \"content\": prompt}],\n",
    "            temperature=temp,\n",
    "            max_tokens=100\n",
    "        )\n",
    "        print(f\"  Run {i+1}: {response.choices[0].message.content}\")\n",
    "    print()"
   ]
  }
 ],
 "metadata": {
  "language_info": {
   "name": "python"
  }
 },
 "nbformat": 4,
 "nbformat_minor": 5
}
